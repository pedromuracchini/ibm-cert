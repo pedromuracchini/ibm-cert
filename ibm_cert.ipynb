{
 "cells": [
  {
   "cell_type": "markdown",
   "metadata": {},
   "source": [
    "<center>\n",
    "    <img src=\"https://cf-courses-data.s3.us.cloud-object-storage.appdomain.cloud/IBMDeveloperSkillsNetwork-DS0105EN-SkillsNetwork/labs/Module2/images/SN_web_lightmode.png\" width=\"300\" alt=\"cognitiveclass.ai logo\">\n",
    "</center>\n"
   ]
  },
  {
   "cell_type": "markdown",
   "metadata": {},
   "source": [
    "# Data Science Fundamentals Notebook"
   ]
  },
  {
   "cell_type": "markdown",
   "metadata": {},
   "source": [
    "## Introduction\n",
    "This notebook covers fundamental concepts in Data Science, including programming languages, libraries, tools, and basic operations. It serves as a quick reference guide for beginners in the field."
   ]
  },
  {
   "cell_type": "markdown",
   "metadata": {},
   "source": [
    "## Data Science Languages\n",
    "1. Python\n",
    "2. R\n",
    "3. SQL\n",
    "4. Julia\n",
    "5. Scala\n",
    "6. Java"
   ]
  },
  {
   "cell_type": "markdown",
   "metadata": {},
   "source": [
    "## Data Science Libraries\n",
    "- **Python Libraries:**\n",
    "  - Pandas (Data manipulation)\n",
    "  - NumPy (Numerical computing)\n",
    "  - Matplotlib/Seaborn (Visualization)\n",
    "  - Scikit-learn (Machine Learning)\n",
    "  \n",
    "- **R Libraries:**\n",
    "  - ggplot2 (Visualization)\n",
    "  - dplyr (Data manipulation)\n",
    "  - caret (Machine Learning)"
   ]
  },
  {
   "cell_type": "markdown",
   "metadata": {},
   "source": [
    "## Data Science Tools\n",
    "| Tool          | Type                | Use Case                     |\n",
    "|---------------|---------------------|------------------------------|\n",
    "| Jupyter       | IDE                 | Interactive coding           |\n",
    "| TensorFlow    | ML Framework        | Deep Learning               |\n",
    "| Tableau       | Visualization       | Business Intelligence       |\n",
    "| Apache Spark  | Big Data Processing | Distributed computing       |\n",
    "| Hadoop        | Big Data Storage    | Large-scale data processing |"
   ]
  },
  {
   "cell_type": "markdown",
   "metadata": {},
   "source": [
    "## Arithmetic Expressions\n",
    "Below are examples of arithmetic expressions in Python:\n",
    "- Addition: `5 + 3`\n",
    "- Multiplication: `4 * 2`\n",
    "- Division: `10 / 2`\n",
    "- Exponentiation: `2 ** 3`"
   ]
  },
  {
   "cell_type": "code",
   "execution_count": 3,
   "metadata": {},
   "outputs": [
    {
     "name": "stdout",
     "output_type": "stream",
     "text": [
      "Result of (5 * 4) + 2 = 22\n"
     ]
    }
   ],
   "source": [
    "# Multiply and add numbers\n",
    "result = (5 * 4) + 2\n",
    "print(\"Result of (5 * 4) + 2 =\", result)"
   ]
  },
  {
   "cell_type": "code",
   "execution_count": 4,
   "metadata": {},
   "outputs": [
    {
     "name": "stdout",
     "output_type": "stream",
     "text": [
      "150 minutes = 2.50 hours\n"
     ]
    }
   ],
   "source": [
    "# Convert minutes to hours\n",
    "minutes = 150\n",
    "hours = minutes / 60\n",
    "print(f\"{minutes} minutes = {hours:.2f} hours\")"
   ]
  },
  {
   "cell_type": "markdown",
   "metadata": {},
   "source": [
    "## Objectives\n",
    "- List popular data science languages\n",
    "- Identify essential data science libraries\n",
    "- Understand common data science tools\n",
    "- Demonstrate basic arithmetic operations\n",
    "- Show unit conversion examples\n",
    "- Provide a structured learning resource"
   ]
  },
  {
   "cell_type": "markdown",
   "metadata": {},
   "source": [
    "## Author\n",
    "Pedro Arthur Bonadio Muracchini  \n",
    "*Data Scientist | AI Enthusiast*  \n",
    "[LinkedIn Profile](https://www.linkedin.com/in/pedro-muracchini/) | [GitHub](https://github.com/pedromuracchini)"
   ]
  }
 ],
 "metadata": {
  "kernelspec": {
   "display_name": "Python 3 (ipykernel)",
   "language": "python",
   "name": "python3"
  },
  "language_info": {
   "codemirror_mode": {
    "name": "ipython",
    "version": 3
   },
   "file_extension": ".py",
   "mimetype": "text/x-python",
   "name": "python",
   "nbconvert_exporter": "python",
   "pygments_lexer": "ipython3",
   "version": "3.12.8"
  }
 },
 "nbformat": 4,
 "nbformat_minor": 4
}
